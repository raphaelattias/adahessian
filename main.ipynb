{
 "metadata": {
  "language_info": {
   "codemirror_mode": {
    "name": "ipython",
    "version": 3
   },
   "file_extension": ".py",
   "mimetype": "text/x-python",
   "name": "python",
   "nbconvert_exporter": "python",
   "pygments_lexer": "ipython3",
   "version": "3.8.3"
  },
  "orig_nbformat": 2,
  "kernelspec": {
   "name": "python3",
   "display_name": "Python 3.8.3 64-bit ('base': conda)"
  },
  "interpreter": {
   "hash": "e92ab2a2f19776469934a941c80bac7328c767cde91a4cb225e0fe10a10c256b"
  }
 },
 "nbformat": 4,
 "nbformat_minor": 2,
 "cells": [
  {
   "cell_type": "code",
   "execution_count": null,
   "metadata": {},
   "outputs": [],
   "source": [
    "import torch\n",
    "import matplotlib.pyplot as plt\n",
    "\n",
    "from train import *\n",
    "\n",
    "import warnings\n",
    "warnings.filterwarnings(\"ignore\")"
   ]
  },
  {
   "source": [],
   "cell_type": "markdown",
   "metadata": {}
  },
  {
   "source": [
    "# First Order Methods\n",
    "## Stochastic Gradient Descent"
   ],
   "cell_type": "markdown",
   "metadata": {}
  },
  {
   "cell_type": "code",
   "execution_count": null,
   "metadata": {},
   "outputs": [],
   "source": [
    "SGD = run_experiment(optimizer_name=\"SGD\", model_name='resnet18', \n",
    "                nb_epochs=15, batch_size=100, reduce=100, plot=True)"
   ]
  },
  {
   "source": [
    "## Stochastic Gradient Descent + Momentum"
   ],
   "cell_type": "markdown",
   "metadata": {}
  },
  {
   "source": [
    "SGDM = run_experiment(optimizer_name=\"SGD+momentum\", model_name='resnet18', \n",
    "                nb_epochs=15, batch_size=100, reduce=100, plot=True)"
   ],
   "cell_type": "code",
   "metadata": {},
   "execution_count": null,
   "outputs": []
  },
  {
   "source": [
    "## Adam"
   ],
   "cell_type": "markdown",
   "metadata": {}
  },
  {
   "cell_type": "code",
   "execution_count": null,
   "metadata": {},
   "outputs": [],
   "source": [
    "Adam = run_experiment(optimizer_name=\"adam\", model_name='resnet18', \n",
    "                nb_epochs=15, batch_size=100, reduce=100, plot=True)"
   ]
  },
  {
   "source": [
    "# Second Order Methods\n",
    "## AdaHessian"
   ],
   "cell_type": "markdown",
   "metadata": {}
  },
  {
   "source": [
    "AdaHessian = run_experiment(optimizer_name=\"adahessian\", model_name='resnet18', \n",
    "                nb_epochs=15, batch_size=100, reduce=100, plot=True, lr=1)"
   ],
   "cell_type": "code",
   "metadata": {},
   "execution_count": null,
   "outputs": []
  },
  {
   "source": [
    "# Hybrid Method\n",
    "## SGDM + AdaHessian"
   ],
   "cell_type": "markdown",
   "metadata": {}
  },
  {
   "cell_type": "code",
   "execution_count": null,
   "metadata": {},
   "outputs": [],
   "source": [
    "Hybrid = run_experiment(optimizer_name=\"hybrid\", model_name='resnet18', \n",
    "                nb_epochs=15, batch_size=100, reduce=100, plot=True, lr=0.005)"
   ]
  },
  {
   "source": [
    "## Hyper Parameter Tuning"
   ],
   "cell_type": "markdown",
   "metadata": {}
  },
  {
   "source": [
    "best_return, best_hyperparameters = parameter_grid_search()"
   ],
   "cell_type": "code",
   "metadata": {},
   "execution_count": null,
   "outputs": []
  },
  {
   "cell_type": "code",
   "execution_count": null,
   "metadata": {},
   "outputs": [],
   "source": []
  }
 ]
}