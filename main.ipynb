{
 "metadata": {
  "language_info": {
   "codemirror_mode": {
    "name": "ipython",
    "version": 3
   },
   "file_extension": ".py",
   "mimetype": "text/x-python",
   "name": "python",
   "nbconvert_exporter": "python",
   "pygments_lexer": "ipython3",
   "version": "3.8.3"
  },
  "orig_nbformat": 2,
  "kernelspec": {
   "name": "python383jvsc74a57bd0fd8e5213aa4da4ca964d9c2f7e82e6b6fcabd58425d8492b0abe09186f259bb3",
   "display_name": "Python 3.8.3 64-bit ('base': conda)"
  }
 },
 "nbformat": 4,
 "nbformat_minor": 2,
 "cells": [
  {
   "cell_type": "code",
   "execution_count": null,
   "metadata": {},
   "outputs": [],
   "source": [
    "import torch\n",
    "import matplotlib.pyplot as plt\n",
    "\n",
    "from dataloader import load_data"
   ]
  },
  {
   "source": [
    "# Load the Dataset (MNIST)"
   ],
   "cell_type": "markdown",
   "metadata": {}
  },
  {
   "cell_type": "code",
   "execution_count": null,
   "metadata": {
    "tags": []
   },
   "outputs": [],
   "source": [
    "train_input, train_target, test_input, test_target = \\\n",
    "    load_data(one_hot_labels = True, normalize = True, flatten = False);"
   ]
  },
  {
   "cell_type": "code",
   "execution_count": null,
   "metadata": {},
   "outputs": [],
   "source": [
    "# few examples \n",
    "fig = plt.figure(figsize=[24,10])\n",
    "for i in range(10):\n",
    "    plt.subplot(2,5,i+1)\n",
    "    plt.tight_layout()\n",
    "    plt.imshow(train_input[train_target.argmax(1)==(i)][0][0], cmap='gray', interpolation='none')\n",
    "    plt.title(\"Label: {}\".format(i), fontsize=20)\n",
    "    plt.xticks([])\n",
    "    plt.yticks([])\n",
    "    fig"
   ]
  }
 ]
}